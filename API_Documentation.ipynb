{
 "cells": [
  {
   "cell_type": "markdown",
   "metadata": {},
   "source": [
    "# API Documentation"
   ]
  },
  {
   "cell_type": "markdown",
   "metadata": {},
   "source": [
    "## 1. Introduction"
   ]
  },
  {
   "cell_type": "markdown",
   "metadata": {},
   "source": [
    "### 1.1. Installation of Python3"
   ]
  },
  {
   "cell_type": "markdown",
   "metadata": {},
   "source": [
    "In this tutorial, I will use some examples to illustrate how to use Python to obtain the information from the [UMedia](https://umedia.lib.umn.edu/) sites. The version I use is Python3 (more specifically, the version is 3.7.4). \n",
    "\n",
    "The official website of Python3 is: https://www.python.org/downloads/.\n",
    "\n",
    "This third-party website introduces how to download Python3 in different operating systems: https://realpython.com/installing-python/. "
   ]
  },
  {
   "cell_type": "markdown",
   "metadata": {},
   "source": [
    "### 1.2. Required packages"
   ]
  },
  {
   "cell_type": "markdown",
   "metadata": {},
   "source": [
    "After the environment has been set up, let's first import several required packages: \n",
    "\n",
    "The package named 'json' is a python built-in module that functions as a json encoder and decoder. With this module, users can both encrypt data into json format and decrypt json file. \n",
    "\n",
    "The package called 'requests' is a Python module that you can use to send all kinds of HTTP requests. It is an easy-to-use library with a lot of features ranging from passing parameters in URLs to sending custom headers and SSL Verification. In this tutorial, you will learn how to use this library to send simple HTTP requests in Python. "
   ]
  },
  {
   "cell_type": "code",
   "execution_count": 2,
   "metadata": {},
   "outputs": [],
   "source": [
    "import requests\n",
    "import json"
   ]
  },
  {
   "cell_type": "markdown",
   "metadata": {},
   "source": [
    "## 2. Formatting the URLs"
   ]
  },
  {
   "cell_type": "markdown",
   "metadata": {},
   "source": [
    "Creating the URLs is a quite important step in using the API to download the information from the UMedia. This is because we need the URLs to make the request to the website. If the API we will talk about later is the car, then the URLs are just like the steering wheel of the car. Without it the API would never know the direciton.\n",
    "\n",
    "We have a tutorial on how to format the URLs for the contents in the UMedia. There are a bunch of tools, examples, and tips on creating the URLs in that tutorial. The users may refer to the following two pages: \n",
    "\n",
    "https://github.com/liu00222/api_document/blob/master/json_umedia/json_umedia.md\n",
    "https://github.com/liu00222/api_document/blob/master/IIIF_umedia/construct_iiif_umedia.md"
   ]
  },
  {
   "cell_type": "markdown",
   "metadata": {},
   "source": [
    "## 3. Using the Packages"
   ]
  },
  {
   "cell_type": "markdown",
   "metadata": {},
   "source": [
    "### 3.1. Download json from UMedia"
   ]
  },
  {
   "cell_type": "markdown",
   "metadata": {},
   "source": [
    "In this part, we will focus on how to use the relative packages and their built-in functions to download the required data from the UMedia. As an example, we use the UMedia search with collection being Digitizing Imigrant Letters. \n",
    "\n",
    "As mentioned in part 2 about how to format the URLs, we can create the url and store it into the variable called \"my_url\". Note that we can concatenate the strings by the \"plus operation\" in Python. "
   ]
  },
  {
   "cell_type": "code",
   "execution_count": 3,
   "metadata": {},
   "outputs": [],
   "source": [
    "base_url = \"https://umedia.lib.umn.edu/search.json?\"\n",
    "my_filter = \"facets%5Bcollection_name_s\"\n",
    "my_key = \"%5D%5B%5D=Digitizing+Immigrant+Letters\"\n",
    "\n",
    "my_url = base_url + my_filter + my_key"
   ]
  },
  {
   "cell_type": "markdown",
   "metadata": {},
   "source": [
    "Also, notice that in default, the url we created just now would only include the first 20 items that are most relavant to the search keyword. In other word, if we simply use the url we form above, we would only download the first twenty items. \n",
    "\n",
    "In order to download more items, we can concatenate the following thing to the end of the url we created. For example, 50 items:"
   ]
  },
  {
   "cell_type": "code",
   "execution_count": 4,
   "metadata": {},
   "outputs": [],
   "source": [
    "my_item_num = \"&rows=50\"\n",
    "\n",
    "my_url_50 = my_url + my_item_num"
   ]
  },
  {
   "cell_type": "markdown",
   "metadata": {},
   "source": [
    "To make things easier, we will keep using the url (variable called 'my_url') which includes 20 items in this documentation. After creating the URL, we can make the request to get the source code downloaded. This can be done through the \"get()\" function in the \"requests\" package: "
   ]
  },
  {
   "cell_type": "code",
   "execution_count": 5,
   "metadata": {},
   "outputs": [],
   "source": [
    "r = requests.get(my_url)"
   ]
  },
  {
   "cell_type": "markdown",
   "metadata": {},
   "source": [
    "The variable called \"r\" to receive the results is a response object. It is like an encrypted json raw data, which is impossible for human to read and understand. This is where we should apply the imported \"json\" package. We can use the \"loads\" function in \"json\" to decrypt the result: "
   ]
  },
  {
   "cell_type": "code",
   "execution_count": 6,
   "metadata": {},
   "outputs": [],
   "source": [
    "data = json.loads(r.text)"
   ]
  },
  {
   "cell_type": "markdown",
   "metadata": {},
   "source": [
    "Now, all the information has been stored in the variable called \"data\", which is a list of dictionary. This may be a little bit confusing. How does the content really look like in \"data\"? Let's first play around with it before actually working with it: "
   ]
  },
  {
   "cell_type": "markdown",
   "metadata": {},
   "source": [
    "Let's first check how many items are stored in the 'data'. This can be done by 'len' function, which is an abbreviation of 'length': "
   ]
  },
  {
   "cell_type": "code",
   "execution_count": 9,
   "metadata": {},
   "outputs": [
    {
     "name": "stdout",
     "output_type": "stream",
     "text": [
      "20\n"
     ]
    }
   ],
   "source": [
    "print(len(data))"
   ]
  },
  {
   "cell_type": "markdown",
   "metadata": {},
   "source": [
    "To access the first item in 'data', we use: "
   ]
  },
  {
   "cell_type": "code",
   "execution_count": 1,
   "metadata": {},
   "outputs": [
    {
     "ename": "NameError",
     "evalue": "name 'data' is not defined",
     "output_type": "error",
     "traceback": [
      "\u001b[0;31m---------------------------------------------------------------------------\u001b[0m",
      "\u001b[0;31mNameError\u001b[0m                                 Traceback (most recent call last)",
      "\u001b[0;32m<ipython-input-1-80a4aab09c73>\u001b[0m in \u001b[0;36m<module>\u001b[0;34m\u001b[0m\n\u001b[0;32m----> 1\u001b[0;31m \u001b[0mdata\u001b[0m\u001b[0;34m[\u001b[0m\u001b[0;36m0\u001b[0m\u001b[0;34m]\u001b[0m\u001b[0;34m\u001b[0m\u001b[0;34m\u001b[0m\u001b[0m\n\u001b[0m",
      "\u001b[0;31mNameError\u001b[0m: name 'data' is not defined"
     ]
    }
   ],
   "source": [
    "data[0]"
   ]
  },
  {
   "cell_type": "markdown",
   "metadata": {},
   "source": [
    "Why we use the number zero to get the first item? This is due to the index system in Python (and in a huge number of programming languages). In Python, the index of a list starts from 0. \n",
    "\n",
    "This leads to another thing to take care in mind. Suppose we have a list with 20 items, then we can access each item by list\\[0\\], ..., list\\[19\\]. Notice that we can't put '20' into the bucket, because it is actually indicating the 21st item! Since there are only 20 items in the list, Python would complain for this, just like the following:"
   ]
  },
  {
   "cell_type": "code",
   "execution_count": 13,
   "metadata": {},
   "outputs": [
    {
     "ename": "IndexError",
     "evalue": "list index out of range",
     "output_type": "error",
     "traceback": [
      "\u001b[0;31m---------------------------------------------------------------------------\u001b[0m",
      "\u001b[0;31mIndexError\u001b[0m                                Traceback (most recent call last)",
      "\u001b[0;32m<ipython-input-13-bc718e20be74>\u001b[0m in \u001b[0;36m<module>\u001b[0;34m\u001b[0m\n\u001b[1;32m      3\u001b[0m \u001b[0;34m\u001b[0m\u001b[0m\n\u001b[1;32m      4\u001b[0m \u001b[0;31m# Python would complain for this\u001b[0m\u001b[0;34m\u001b[0m\u001b[0;34m\u001b[0m\u001b[0;34m\u001b[0m\u001b[0m\n\u001b[0;32m----> 5\u001b[0;31m \u001b[0merror_item\u001b[0m \u001b[0;34m=\u001b[0m \u001b[0mdata\u001b[0m\u001b[0;34m[\u001b[0m\u001b[0;36m20\u001b[0m\u001b[0;34m]\u001b[0m\u001b[0;34m\u001b[0m\u001b[0;34m\u001b[0m\u001b[0m\n\u001b[0m",
      "\u001b[0;31mIndexError\u001b[0m: list index out of range"
     ]
    }
   ],
   "source": [
    "# Python is comfortable with this\n",
    "data[19]\n",
    "\n",
    "# Python would complain for this\n",
    "data[20]"
   ]
  },
  {
   "cell_type": "markdown",
   "metadata": {},
   "source": [
    "The next concern would be: what information are exactly stored in each item? \n",
    "\n",
    "To answer this question, we need to dive into the inner dictionary and see what information are stored in there. We can use the following code to stored the keys of the dictionary into the variable called \"keys\" and print them out by a for-loop:  "
   ]
  },
  {
   "cell_type": "code",
   "execution_count": 14,
   "metadata": {},
   "outputs": [
    {
     "name": "stdout",
     "output_type": "stream",
     "text": [
      "id\n",
      "object\n",
      "set_spec\n",
      "collection_name\n",
      "collection_name_s\n",
      "collection_description\n",
      "title\n",
      "title_s\n",
      "title_t\n",
      "title_search\n",
      "title_sort\n",
      "description\n",
      "date_created\n",
      "date_created_ss\n",
      "date_created_sort\n",
      "creator\n",
      "creator_ss\n",
      "creator_sort\n",
      "contributor\n",
      "contributor_ss\n",
      "notes\n",
      "types\n",
      "format\n",
      "format_name\n",
      "dimensions\n",
      "subject\n",
      "subject_ss\n",
      "language\n",
      "city\n",
      "state\n",
      "country\n",
      "continent\n",
      "parent_collection\n",
      "parent_collection_name\n",
      "contributing_organization\n",
      "contributing_organization_name\n",
      "contributing_organization_name_s\n",
      "contact_information\n",
      "local_identifier\n",
      "dls_identifier\n",
      "persistent_url\n",
      "local_rights\n",
      "page_count\n",
      "record_type\n",
      "first_viewer_type\n",
      "viewer_type\n",
      "attachment\n",
      "document_type\n",
      "featured_collection_order\n",
      "date_added\n",
      "date_added_sort\n",
      "transcription\n",
      "_version_\n",
      "type\n",
      "collection\n",
      "is_compound\n",
      "parent_id\n",
      "thumb_url\n",
      "thumb_cdn_url\n"
     ]
    }
   ],
   "source": [
    "keys = list(data[0].keys())\n",
    "\n",
    "for i in range(len(keys)):\n",
    "    print(keys[i])"
   ]
  },
  {
   "cell_type": "markdown",
   "metadata": {},
   "source": [
    "From the above results, we can see a bunch of keys that we can use to grab the relative information, like its title, creator, transcript, page count, type, data added, etc. Here is an example of printing out the title and the transcript of the first item: "
   ]
  },
  {
   "cell_type": "code",
   "execution_count": 15,
   "metadata": {},
   "outputs": [
    {
     "name": "stdout",
     "output_type": "stream",
     "text": [
      "Alessandro Sisca (Riccardo Cordiferro) - letter to Lucia Fazio, 1900-10-18\n"
     ]
    }
   ],
   "source": [
    "print(data[0][\"title\"])"
   ]
  },
  {
   "cell_type": "code",
   "execution_count": 16,
   "metadata": {},
   "outputs": [
    {
     "name": "stdout",
     "output_type": "stream",
     "text": [
      "Boston, Mass., 18 Ottobre 1900 Carissima Lucia, Sai perchè t’accludo questa lettera di Falcidia? Per dimostrarti coi fatti che io ho scritto a Grella, prima pre- gandolo, [poscia?] insultando, per farti toccare con mano che io non mi ero mica messo d’accordo con lui onde abbandonarti, per farti in- fire ancora una volta palese la mia innocenza. E in tutte le nostre quistioni, assieme sempre così, sap- pilo. Ma quando ti correggerai? Quando muterai sistema? Intanto ieri scrissi a Grella un’altra lettera dicendogliene di cotte e di crude. Io ti consiglio per il tuo bene e per la mia pace di essere in av- venire un pochino più seria. Se Grella ti sembra un cafone, Fal- cidia un uomo tozzo, [Pascucci?] un delinguente, Mignone un guar- diano di porci, Marziale un ricattaro[?] ecc., ecc., ti potresti però anche sba- gliare e non dovresti esser così leggiera sul dar dei giudizii. Tanto meno avresti dovuto dire che io mi ero abbaccato[?] con Grella, e che so io. Prima di scrivere e di parlare rifletti. Queste cose io te le dico come le direbbe un padre alla figlia; se poi vuoi continuare a fare il tuo comodo, padronissima. Con la tua lettera nella quale mi annunziami il tuo suicidio, non solo mi hai ca- gionato un immenso dolore, scom- bussolando tutto il mio sistema nervoso, ma mi hai altresì fatto spendere più di due dollari per telegrammi. Ma pazienza! Qui gli affari sono andati malessimo. Io vengo costà senza un soldo in tasca. Avevo pochi dollari e ho comprato un cappello, un calzone e delle mutande. Nè ho potuto mandar danaro a Grella perchè quì si è trovato esatto tutto, causa una truffa di un collettore. Sono lieto che hai finalmente fittata la fornitura. Iddio sia benedetto! Speriamo che tutti i guai nostri siano Finalmente finiti! In un’altra mia Ti dirò il giorno della mia partenza. Mille affettuosi baci Riccardo [along the left edge of the letter, writer writes:] Bada che io voglio venire direttamente a casa nostra. Sono stanco Stanco e anelo[?] il momento di riabbracciarti.\n"
     ]
    }
   ],
   "source": [
    "print(data[0][\"transcription\"])"
   ]
  },
  {
   "cell_type": "markdown",
   "metadata": {},
   "source": [
    "To print out the titles of all 20 items we grabbed from UMedia, we can use a for-loop: "
   ]
  },
  {
   "cell_type": "code",
   "execution_count": null,
   "metadata": {},
   "outputs": [],
   "source": [
    "for i in range(len(data)):\n",
    "    print(data[i][\"title\"])"
   ]
  },
  {
   "cell_type": "markdown",
   "metadata": {},
   "source": [
    "Now, we can work with our \"data\" variable to grab the required indormation. Here as an example, I will work to answer the following question: How to store the transcripts of all the items I just got from UMedia into my local machine? "
   ]
  },
  {
   "cell_type": "markdown",
   "metadata": {},
   "source": [
    "In Python3, we can use the \"open()\" function to create files in .txt format. This function takes two arguments in string type. The first argument specifies the name of the file. The second argument is a symbol that specifies the task we need to do with the file. To write things, we use the symbol \"w+\". Here the users can check more about the \"open()\" function and its usage: \n",
    "https://docs.python.org/3/library/functions.html. \n",
    "\n",
    "The following line of code does three things: \n",
    "\n",
    "1. create a file object called \"f\"\n",
    "2. create a txt file called \"Digitizing Immigrant Letters\" on the local computer\n",
    "3. specify that what we need to do with this file is to write things into it "
   ]
  },
  {
   "cell_type": "code",
   "execution_count": 24,
   "metadata": {},
   "outputs": [],
   "source": [
    "f = open(\"letters.txt\", \"w+\")"
   ]
  },
  {
   "cell_type": "markdown",
   "metadata": {},
   "source": [
    "After opening (or creating) the file, we are able to write things into it by \"write()\" function which belongs to the file object class. For our answer to the 3rd question, we would use a for-loop to iteratively write the transcripts into the file: "
   ]
  },
  {
   "cell_type": "code",
   "execution_count": 25,
   "metadata": {},
   "outputs": [],
   "source": [
    "for i in range(len(data)):\n",
    "    f.write(data[i][\"title\"] + \"\\n\" + data[i][\"transcription\"] + \"\\n\\n\")"
   ]
  },
  {
   "cell_type": "markdown",
   "metadata": {},
   "source": [
    "Now if you check your local machine, there would be a file called \"Digitizing Immigrant Letters.txt\" in the same directory with the code that you just run! When opening it, you will see the title along with the transcript of each item with no suprise. \n",
    "\n",
    "Remember to close the file every time you open one. This would avoid the problem of the memory leak, which would lower your CPU performance. The code to do this is simply here: "
   ]
  },
  {
   "cell_type": "code",
   "execution_count": 26,
   "metadata": {},
   "outputs": [],
   "source": [
    "f.close()"
   ]
  },
  {
   "cell_type": "markdown",
   "metadata": {},
   "source": [
    "### 3.2. Dowload Objects from UMedia"
   ]
  },
  {
   "cell_type": "markdown",
   "metadata": {},
   "source": [
    "In this part, we will talk about how to use the API in Python to download the objects from UMedia. We will mainly focus on how to download static images in this documentation. \n",
    "\n",
    "To download objects like image, we need another built-in module in Python called \"shutil\". This module provides plenty of high-level operations on local files and collections of local files. In particular, functions are offered in this module which support file copying and removal. If you are interested in more details and functions in this module, you can see: \n",
    "https://docs.python.org/3/library/shutil.html\n",
    "\n",
    "Run the following code first before starting: "
   ]
  },
  {
   "cell_type": "code",
   "execution_count": 17,
   "metadata": {},
   "outputs": [],
   "source": [
    "import shutil"
   ]
  },
  {
   "cell_type": "markdown",
   "metadata": {},
   "source": [
    "Then, as we did in the last part, now we need to form the URL for the image we want to download. As an example, we use the image that we introduced in the [How to construct IIIF calls to UMedia](https://github.com/liu00222/api_document/blob/master/IIIF_umedia/construct_iiif_umedia.md) documentation: "
   ]
  },
  {
   "cell_type": "code",
   "execution_count": null,
   "metadata": {},
   "outputs": [],
   "source": [
    "image_url = \"https://cdm16022.contentdm.oclc.org/digital/iiif/p16022coll208/4833/full/full/0/default.jpg\""
   ]
  },
  {
   "cell_type": "markdown",
   "metadata": {},
   "source": [
    "Next, we make requests to open the url image. "
   ]
  },
  {
   "cell_type": "code",
   "execution_count": null,
   "metadata": {},
   "outputs": [],
   "source": [
    "resp = requests.get(image_url, stream = True)"
   ]
  },
  {
   "cell_type": "markdown",
   "metadata": {},
   "source": [
    "Notice that, different from sending requests to json URL that we did in the previous part, here we need to set stream to 'True'. This is because the image information are binary instead of well-constructed in json format. \n",
    "\n",
    "Then, we open a local file to store the image that we grabbed: "
   ]
  },
  {
   "cell_type": "code",
   "execution_count": null,
   "metadata": {},
   "outputs": [],
   "source": [
    "local_file = open('local_image.jpg', 'wb')"
   ]
  },
  {
   "cell_type": "markdown",
   "metadata": {},
   "source": [
    "Also notice here, the second argument of the \"open\" function is 'wb' instead of 'w+'. This is beacuse we need to write binary data into the file, which is indicated by 'b' in the 'wb'. \n",
    "\n",
    "Before writing the data into the 'local_image.jpg' we just created, we must set the decode_content to be True! Otherwise the size of this file will always be zero, and thus cannot be opened by any computer. "
   ]
  },
  {
   "cell_type": "code",
   "execution_count": null,
   "metadata": {},
   "outputs": [],
   "source": [
    "resp.raw.decode_content = True"
   ]
  },
  {
   "cell_type": "markdown",
   "metadata": {},
   "source": [
    "Now, we are free to write the image data into the file. This is done by one line of code, using the 'copyfileobj' function in the shutil module. Don't forget to delete the image url response object before celebrating: "
   ]
  },
  {
   "cell_type": "code",
   "execution_count": null,
   "metadata": {},
   "outputs": [],
   "source": [
    "# write the data into the local_file\n",
    "shutil.copyfileobj(resp.raw, local_file)\n",
    "\n",
    "# remove the image response object\n",
    "del resp"
   ]
  },
  {
   "cell_type": "markdown",
   "metadata": {},
   "source": [
    "After running all the lines of code above, you will surprisingly find that the image called \"local_image.jpg\" is in the same directory as the code! Now you know how to download the images from UMedia. "
   ]
  },
  {
   "cell_type": "markdown",
   "metadata": {},
   "source": [
    "This is the end of the tutorial. Thank you for reading! "
   ]
  }
 ],
 "metadata": {
  "kernelspec": {
   "display_name": "Python 3",
   "language": "python",
   "name": "python3"
  },
  "language_info": {
   "codemirror_mode": {
    "name": "ipython",
    "version": 3
   },
   "file_extension": ".py",
   "mimetype": "text/x-python",
   "name": "python",
   "nbconvert_exporter": "python",
   "pygments_lexer": "ipython3",
   "version": "3.7.4"
  }
 },
 "nbformat": 4,
 "nbformat_minor": 2
}
