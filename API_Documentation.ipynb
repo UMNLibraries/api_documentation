{
 "cells": [
  {
   "cell_type": "markdown",
   "metadata": {},
   "source": [
    "# API Documentation"
   ]
  },
  {
   "cell_type": "markdown",
   "metadata": {},
   "source": [
    "## 1. Introduction\n",
    "This tutorial introduces Python code you can use to access data and metadata from UMedia."
   ]
  },
  {
   "cell_type": "markdown",
   "metadata": {},
   "source": [
    "### 1.1. Installation of Python3"
   ]
  },
  {
   "cell_type": "markdown",
   "metadata": {},
   "source": [
    "In this tutorial, we will illustrate how to use Python to obtain data from [UMedia](https://umedia.lib.umn.edu/). We will use Python3 (more specifically, version 3.7.4). \n",
    "\n",
    "The official website of Python3 is: https://www.python.org/downloads/."
   ]
  },
  {
   "cell_type": "markdown",
   "metadata": {},
   "source": [
    "### 1.2. Required packages"
   ]
  },
  {
   "cell_type": "markdown",
   "metadata": {},
   "source": [
    "Once you're ready to use Python, let's first import several required packages: \n",
    "\n",
    "* 'json' is a python built-in module that functions as a json encoder and decoder. \n",
    "* 'requests' is a Python module that you can use to send all kinds of HTTP requests. In this tutorial, you will learn how to use requests to send simple HTTP requests in Python. "
   ]
  },
  {
   "cell_type": "code",
   "execution_count": 2,
   "metadata": {},
   "outputs": [],
   "source": [
    "import requests\n",
    "import json"
   ]
  },
  {
   "cell_type": "markdown",
   "metadata": {},
   "source": [
    "## 2. Formatting the URLs"
   ]
  },
  {
   "cell_type": "markdown",
   "metadata": {},
   "source": [
    "Creating URLs is an important step to use the UMedia API. We need the URLs to make the request to the website. If the API is the car, the URL is the steering wheel of the car. Without it, the API won't go in the right direction.\n",
    "\n",
    "For more info on how to format URLs for UMedia API, see: \n",
    "\n",
    "https://github.com/liu00222/api_document/blob/master/json_umedia/json_umedia.md\n",
    "https://github.com/liu00222/api_document/blob/master/IIIF_umedia/construct_iiif_umedia.md"
   ]
  },
  {
   "cell_type": "markdown",
   "metadata": {},
   "source": [
    "## 3. Using the Packages"
   ]
  },
  {
   "cell_type": "markdown",
   "metadata": {},
   "source": [
    "### 3.1. Download json from UMedia"
   ]
  },
  {
   "cell_type": "markdown",
   "metadata": {},
   "source": [
    "Let's use the ```requests``` and ```json``` libraries, and their built-in functions, to download data from UMedia. We'll focus below on the \"Digitizing Immigrant Letters\" collection. \n",
    "\n",
    "Let's create a URL and store it in a variable called ```my_url```. We can also concatenate strings using the \"plus operation\" in Python to combine different element of the URL: "
   ]
  },
  {
   "cell_type": "code",
   "execution_count": 3,
   "metadata": {},
   "outputs": [],
   "source": [
    "base_url = \"https://umedia.lib.umn.edu/search.json?\"\n",
    "my_filter = \"facets%5Bcollection_name_s\"\n",
    "my_key = \"%5D%5B%5D=Digitizing+Immigrant+Letters\"\n",
    "\n",
    "my_url = base_url + my_filter + my_key"
   ]
  },
  {
   "cell_type": "markdown",
   "metadata": {},
   "source": [
    "Notice that the url we created above would only include the first 20 items from the search results. To access data for up to 50 items at a time through a single API call, we can add ```&rows=50``` at the end of the URL:"
   ]
  },
  {
   "cell_type": "code",
   "execution_count": 4,
   "metadata": {},
   "outputs": [],
   "source": [
    "my_item_num = \"&rows=50\"\n",
    "\n",
    "my_url_50 = my_url + my_item_num"
   ]
  },
  {
   "cell_type": "markdown",
   "metadata": {},
   "source": [
    "To keep things simple, we will use the ```my_url``` variable here, which includes 20 items. \n",
    "\n",
    "Now let's use the ```get()``` function in the ```requests``` package to access the data from our ```my_url``` variable: "
   ]
  },
  {
   "cell_type": "code",
   "execution_count": 5,
   "metadata": {},
   "outputs": [],
   "source": [
    "r = requests.get(my_url)"
   ]
  },
  {
   "cell_type": "markdown",
   "metadata": {},
   "source": [
    "The variable called ```r``` includes our search results as a response object, which can be difficult to read and understand. You can view the contents of the object by running ```print(r.contents)```. \n",
    "\n",
    "Next we can use the ```loads()``` function in ```json``` to read the result into JSON:"
   ]
  },
  {
   "cell_type": "code",
   "execution_count": 6,
   "metadata": {},
   "outputs": [],
   "source": [
    "data = json.loads(r.text)"
   ]
  },
  {
   "cell_type": "markdown",
   "metadata": {},
   "source": [
    "The information has been stored in the variable called ```data```, which is a Python list of Python dictionaries. "
   ]
  },
  {
   "cell_type": "markdown",
   "metadata": {},
   "source": [
    "Let's take a look at how many items are stored in the ```data``` variable. This can be done with the Python ```len()``` function:"
   ]
  },
  {
   "cell_type": "code",
   "execution_count": 7,
   "metadata": {},
   "outputs": [
    {
     "name": "stdout",
     "output_type": "stream",
     "text": [
      "20\n"
     ]
    }
   ],
   "source": [
    "print(len(data))"
   ]
  },
  {
   "cell_type": "markdown",
   "metadata": {},
   "source": [
    "You can access an item in the data list by referring to its index: ```data[0]``` refers to the first item in the list, ```data[1]``` the second, and so on. We use a zero instead of a one for the first item in the list because Python (and many other programming languages) start indexes for lists from zero."
   ]
  },
  {
   "cell_type": "code",
   "execution_count": 8,
   "metadata": {},
   "outputs": [
    {
     "data": {
      "text/plain": [
       "{'id': 'p16022coll264:133',\n",
       " 'object': 'https://cdm16022.contentdm.oclc.org/utils/getthumbnail/collection/p16022coll264/id/133',\n",
       " 'set_spec': 'p16022coll264',\n",
       " 'collection_name': 'Digitizing Immigrant Letters',\n",
       " 'collection_name_s': 'Digitizing Immigrant Letters',\n",
       " 'collection_description': 'The Digitizing Immigrant Letters Project aims to make available on-line letters from the IHRC Archives and other collections (private individuals, partner institutions) that were written between 1850 and 1970 both by immigrants (the so-called “America letters”) and to immigrants (“homeland letters”). Global and multilingual in scope, the project encourages scholars, teachers, students and the public to interpret letters that express emotion and intimacy among loved ones separated by migration. [Project website available at: https://ihrca.dash.umn.edu/dil/]',\n",
       " 'title': 'Alessandro Sisca (Riccardo Cordiferro) - letter to Lucia Fazio, 1900-10-18',\n",
       " 'title_s': 'Alessandro Sisca (Riccardo Cordiferro) - letter to Lucia Fazio, 1900-10-18',\n",
       " 'title_t': 'Alessandro Sisca (Riccardo Cordiferro) - letter to Lucia Fazio, 1900-10-18',\n",
       " 'title_search': 'Alessandro Sisca (Riccardo Cordiferro) - letter to Lucia Fazio, 1900-10-18',\n",
       " 'title_sort': 'alessandrosiscariccardocordiferrolettertoluciafazio19001018',\n",
       " 'description': 'Letter from Alesssandro Sisca (Riccardo Cordiferro) of Boston, Massachusetts, to Lucia Fazio residing in New York, New York.',\n",
       " 'date_created': ['1900-10-18'],\n",
       " 'date_created_ss': ['1900-10-18'],\n",
       " 'date_created_sort': '1900',\n",
       " 'creator': ['Sisca, Alessandro (Cordiferro, Riccardo)'],\n",
       " 'creator_ss': ['Sisca, Alessandro (Cordiferro, Riccardo)'],\n",
       " 'creator_sort': 'siscaalessandrocordiferroriccardo',\n",
       " 'contributor': ['Cancian, Sonia (translation and transcription)'],\n",
       " 'contributor_ss': ['Cancian, Sonia (translation and transcription)'],\n",
       " 'notes': 'Location: Box 1, Folder 5',\n",
       " 'types': ['Text'],\n",
       " 'format': ['Letters (correspondence) | http://vocab.getty.edu/aat/300026879'],\n",
       " 'format_name': ['Letters (correspondence)'],\n",
       " 'dimensions': '2 pages',\n",
       " 'subject': ['Immigrants Correspondence', 'Immigrant Letters', 'Italian'],\n",
       " 'subject_ss': ['Immigrants Correspondence', 'Immigrant Letters', 'Italian'],\n",
       " 'language': ['Italian'],\n",
       " 'city': ['Boston; New York'],\n",
       " 'state': ['Massachusetts; New York'],\n",
       " 'country': ['United States'],\n",
       " 'continent': ['North America'],\n",
       " 'parent_collection': 'Alessandro Sisca Papers (IHRC 2408); http://archives.lib.umn.edu/repositories/6/resources/4570',\n",
       " 'parent_collection_name': 'Alessandro Sisca Papers (IHRC 2408)',\n",
       " 'contributing_organization': 'University of Minnesota Libraries, Immigration History Research Center Archives.',\n",
       " 'contributing_organization_name': 'University of Minnesota Libraries, Immigration History Research Center Archives.',\n",
       " 'contributing_organization_name_s': 'University of Minnesota Libraries, Immigration History Research Center Archives.',\n",
       " 'contact_information': 'University of Minnesota Libraries, Immigration History Research Center Archives. 311 Elmer L. Andersen Library, 222 - 21st Avenue South, Minneapolis, MN 55455; https://www.lib.umn.edu/ihrca',\n",
       " 'local_identifier': ['im007156; im007157; IHRC 2408, Box 1, Folder 5'],\n",
       " 'dls_identifier': ['im007156', 'im007157'],\n",
       " 'persistent_url': 'http://purl.umn.edu/62116',\n",
       " 'local_rights': 'Use of this item may be governed by US and international copyright laws. You may be able to use this item, but copyright and other considerations may apply. For possible additional information or guidance on your use, please contact the contributing organization.',\n",
       " 'page_count': 2,\n",
       " 'record_type': 'primary',\n",
       " 'first_viewer_type': 'image',\n",
       " 'viewer_type': 'COMPOUND_PARENT_NO_VIEWER',\n",
       " 'attachment': '134.cpd',\n",
       " 'document_type': 'item',\n",
       " 'featured_collection_order': 999,\n",
       " 'date_added': '2019-10-24T00:00:00Z',\n",
       " 'date_added_sort': '2019-10-24T00:00:00Z',\n",
       " 'transcription': 'Boston, Mass., 18 Ottobre 1900 Carissima Lucia, Sai perchè t’accludo questa lettera di Falcidia? Per dimostrarti coi fatti che io ho scritto a Grella, prima pre- gandolo, [poscia?] insultando, per farti toccare con mano che io non mi ero mica messo d’accordo con lui onde abbandonarti, per farti in- fire ancora una volta palese la mia innocenza. E in tutte le nostre quistioni, assieme sempre così, sap- pilo. Ma quando ti correggerai? Quando muterai sistema? Intanto ieri scrissi a Grella un’altra lettera dicendogliene di cotte e di crude. Io ti consiglio per il tuo bene e per la mia pace di essere in av- venire un pochino più seria. Se Grella ti sembra un cafone, Fal- cidia un uomo tozzo, [Pascucci?] un delinguente, Mignone un guar- diano di porci, Marziale un ricattaro[?] ecc., ecc., ti potresti però anche sba- gliare e non dovresti esser così leggiera sul dar dei giudizii. Tanto meno avresti dovuto dire che io mi ero abbaccato[?] con Grella, e che so io. Prima di scrivere e di parlare rifletti. Queste cose io te le dico come le direbbe un padre alla figlia; se poi vuoi continuare a fare il tuo comodo, padronissima. Con la tua lettera nella quale mi annunziami il tuo suicidio, non solo mi hai ca- gionato un immenso dolore, scom- bussolando tutto il mio sistema nervoso, ma mi hai altresì fatto spendere più di due dollari per telegrammi. Ma pazienza! Qui gli affari sono andati malessimo. Io vengo costà senza un soldo in tasca. Avevo pochi dollari e ho comprato un cappello, un calzone e delle mutande. Nè ho potuto mandar danaro a Grella perchè quì si è trovato esatto tutto, causa una truffa di un collettore. Sono lieto che hai finalmente fittata la fornitura. Iddio sia benedetto! Speriamo che tutti i guai nostri siano Finalmente finiti! In un’altra mia Ti dirò il giorno della mia partenza. Mille affettuosi baci Riccardo [along the left edge of the letter, writer writes:] Bada che io voglio venire direttamente a casa nostra. Sono stanco Stanco e anelo[?] il momento di riabbracciarti.',\n",
       " '_version_': 1657512910108229632,\n",
       " 'type': 'Text',\n",
       " 'collection': 'p16022coll264',\n",
       " 'is_compound': True,\n",
       " 'parent_id': '133',\n",
       " 'thumb_url': 'https://cdm16022.contentdm.oclc.org/utils/getthumbnail/collection/p16022coll264/id/133',\n",
       " 'thumb_cdn_url': 'https://dkp5i0hinw9br.cloudfront.net/dbd50ec76928d2a60d7fc602169012236f70ec16.png'}"
      ]
     },
     "execution_count": 8,
     "metadata": {},
     "output_type": "execute_result"
    }
   ],
   "source": [
    "data[0]"
   ]
  },
  {
   "cell_type": "markdown",
   "metadata": {},
   "source": [
    "It's important to note that because our ```data``` list starts from the index ```data[0]``` the index will end at ```data[19]```. For a list of 20 items we can't look for ```data[20]``` because it is actually indicating the 21st item in the list (which doesn't exist)! Looking for ```data[20]``` will give us a \"list index\" error."
   ]
  },
  {
   "cell_type": "code",
   "execution_count": 9,
   "metadata": {},
   "outputs": [
    {
     "ename": "IndexError",
     "evalue": "list index out of range",
     "output_type": "error",
     "traceback": [
      "\u001b[0;31m---------------------------------------------------------------------------\u001b[0m",
      "\u001b[0;31mIndexError\u001b[0m                                Traceback (most recent call last)",
      "\u001b[0;32m<ipython-input-9-1215db568c37>\u001b[0m in \u001b[0;36m<module>\u001b[0;34m()\u001b[0m\n\u001b[1;32m      3\u001b[0m \u001b[0;34m\u001b[0m\u001b[0m\n\u001b[1;32m      4\u001b[0m \u001b[0;31m# Python would complain for this\u001b[0m\u001b[0;34m\u001b[0m\u001b[0;34m\u001b[0m\u001b[0m\n\u001b[0;32m----> 5\u001b[0;31m \u001b[0mdata\u001b[0m\u001b[0;34m[\u001b[0m\u001b[0;36m20\u001b[0m\u001b[0;34m]\u001b[0m\u001b[0;34m\u001b[0m\u001b[0m\n\u001b[0m",
      "\u001b[0;31mIndexError\u001b[0m: list index out of range"
     ]
    }
   ],
   "source": [
    "# Python is comfortable with this\n",
    "data[19]\n",
    "\n",
    "# Python would complain for this\n",
    "data[20]"
   ]
  },
  {
   "cell_type": "markdown",
   "metadata": {},
   "source": [
    "The next concern would be: what specific data elements are stored in each item from the ```data``` list? \n",
    "\n",
    "To answer the 2nd question, we need to dive into the inner dictionary and explore what information is stored there. Each dictionary includes a list of keys and values. We can tell it's a Python dictionary instead of a Python list becuase it's contained by curly brackets: \n",
    "```\n",
    "{'id': 'p16022coll264:133', 'collection_name': 'Digitizing Immigrant Letters'}\n",
    "```\n",
    "In the example above, the first key is 'id' and its value is 'p16022coll264:133', and the second key is 'collection_name' with a value of 'Digitizing Immigrant Letters'.\n",
    "\n",
    "We can use the following code to store all of the keys for the dictionary in ```data[0]``` into a variable called ```keys``` and print them out using for-loop. "
   ]
  },
  {
   "cell_type": "code",
   "execution_count": 10,
   "metadata": {},
   "outputs": [
    {
     "name": "stdout",
     "output_type": "stream",
     "text": [
      "id\n",
      "object\n",
      "set_spec\n",
      "collection_name\n",
      "collection_name_s\n",
      "collection_description\n",
      "title\n",
      "title_s\n",
      "title_t\n",
      "title_search\n",
      "title_sort\n",
      "description\n",
      "date_created\n",
      "date_created_ss\n",
      "date_created_sort\n",
      "creator\n",
      "creator_ss\n",
      "creator_sort\n",
      "contributor\n",
      "contributor_ss\n",
      "notes\n",
      "types\n",
      "format\n",
      "format_name\n",
      "dimensions\n",
      "subject\n",
      "subject_ss\n",
      "language\n",
      "city\n",
      "state\n",
      "country\n",
      "continent\n",
      "parent_collection\n",
      "parent_collection_name\n",
      "contributing_organization\n",
      "contributing_organization_name\n",
      "contributing_organization_name_s\n",
      "contact_information\n",
      "local_identifier\n",
      "dls_identifier\n",
      "persistent_url\n",
      "local_rights\n",
      "page_count\n",
      "record_type\n",
      "first_viewer_type\n",
      "viewer_type\n",
      "attachment\n",
      "document_type\n",
      "featured_collection_order\n",
      "date_added\n",
      "date_added_sort\n",
      "transcription\n",
      "_version_\n",
      "type\n",
      "collection\n",
      "is_compound\n",
      "parent_id\n",
      "thumb_url\n",
      "thumb_cdn_url\n"
     ]
    }
   ],
   "source": [
    "keys = list(data[0].keys())\n",
    "\n",
    "for i in range(len(keys)):\n",
    "    print(keys[i])"
   ]
  },
  {
   "cell_type": "markdown",
   "metadata": {},
   "source": [
    "From the above results, we can see all of the keys that we can use to grab values such as title, creator, transcript, page count, type, date added, etc. We can reference these keys to take a look at the title and the transcript of the first item: "
   ]
  },
  {
   "cell_type": "code",
   "execution_count": 11,
   "metadata": {},
   "outputs": [
    {
     "name": "stdout",
     "output_type": "stream",
     "text": [
      "Alessandro Sisca (Riccardo Cordiferro) - letter to Lucia Fazio, 1900-10-18\n"
     ]
    }
   ],
   "source": [
    "print(data[0][\"title\"])"
   ]
  },
  {
   "cell_type": "code",
   "execution_count": 12,
   "metadata": {},
   "outputs": [
    {
     "name": "stdout",
     "output_type": "stream",
     "text": [
      "Boston, Mass., 18 Ottobre 1900 Carissima Lucia, Sai perchè t’accludo questa lettera di Falcidia? Per dimostrarti coi fatti che io ho scritto a Grella, prima pre- gandolo, [poscia?] insultando, per farti toccare con mano che io non mi ero mica messo d’accordo con lui onde abbandonarti, per farti in- fire ancora una volta palese la mia innocenza. E in tutte le nostre quistioni, assieme sempre così, sap- pilo. Ma quando ti correggerai? Quando muterai sistema? Intanto ieri scrissi a Grella un’altra lettera dicendogliene di cotte e di crude. Io ti consiglio per il tuo bene e per la mia pace di essere in av- venire un pochino più seria. Se Grella ti sembra un cafone, Fal- cidia un uomo tozzo, [Pascucci?] un delinguente, Mignone un guar- diano di porci, Marziale un ricattaro[?] ecc., ecc., ti potresti però anche sba- gliare e non dovresti esser così leggiera sul dar dei giudizii. Tanto meno avresti dovuto dire che io mi ero abbaccato[?] con Grella, e che so io. Prima di scrivere e di parlare rifletti. Queste cose io te le dico come le direbbe un padre alla figlia; se poi vuoi continuare a fare il tuo comodo, padronissima. Con la tua lettera nella quale mi annunziami il tuo suicidio, non solo mi hai ca- gionato un immenso dolore, scom- bussolando tutto il mio sistema nervoso, ma mi hai altresì fatto spendere più di due dollari per telegrammi. Ma pazienza! Qui gli affari sono andati malessimo. Io vengo costà senza un soldo in tasca. Avevo pochi dollari e ho comprato un cappello, un calzone e delle mutande. Nè ho potuto mandar danaro a Grella perchè quì si è trovato esatto tutto, causa una truffa di un collettore. Sono lieto che hai finalmente fittata la fornitura. Iddio sia benedetto! Speriamo che tutti i guai nostri siano Finalmente finiti! In un’altra mia Ti dirò il giorno della mia partenza. Mille affettuosi baci Riccardo [along the left edge of the letter, writer writes:] Bada che io voglio venire direttamente a casa nostra. Sono stanco Stanco e anelo[?] il momento di riabbracciarti.\n"
     ]
    }
   ],
   "source": [
    "print(data[0][\"transcription\"])"
   ]
  },
  {
   "cell_type": "markdown",
   "metadata": {},
   "source": [
    "To print out the titles for all 20 items we grabbed from UMedia in the ```data``` list, we can use a for-loop: "
   ]
  },
  {
   "cell_type": "code",
   "execution_count": 13,
   "metadata": {},
   "outputs": [
    {
     "name": "stdout",
     "output_type": "stream",
     "text": [
      "Alessandro Sisca (Riccardo Cordiferro) - letter to Lucia Fazio, 1900-10-18\n",
      "Alexey Grebenstchikoff - Letter to George Grebenstchikoff, Summer 1927\n",
      "America Letters: August Aalto - Letter to Hilma Aerila, 1906-04-27\n",
      "America Letters: August Aalto - Letter to Hilma Aerila, 1907-03-30\n",
      "America Letters: Bert Aalto - Letter to Hilma Aerila, 1911-08-26\n",
      "America Letters: Bert Aalto - Letter to Hilma Aerila, 1911-11-14\n",
      "America Letters: Bert Aalto - Letter to Hilma Aerila, 1912-01-12\n",
      "America Letters: Nameless to Olga, 1959-01-23\n",
      "America Letters: Saimi - Letter to her Sister, 1938-04-04\n",
      "Anatoly Grebenstchikoff - Letter to George Grebenstchikoff, 1917-08-14\n",
      "Anna Paikens - letter to Edward Paikens, 1956-11-25\n",
      "Anna Paikens - letter to Edward Paikens, 1957-02-03\n",
      "Anna Paikens - letter to Edward Paikens, 1957-02-24\n",
      "Anna Paikens - letter to Edward Paikens, 1957-04-14\n",
      "Anna Paikens - letter to Helena Paikens, 1957-09-27\n",
      "Antonietta Petris letter, 1948-09-26\n",
      "Antonietta Petris letter, 1948-09-30\n",
      "Antonietta Petris letter, 1948-10-05\n",
      "Diego Delfino - Letter to his Daughter, 1925-03-26\n",
      "Diego Delfino - Letter to his Daughter, 1925-04-08\n"
     ]
    }
   ],
   "source": [
    "for i in range(len(data)):\n",
    "    print(data[i][\"title\"])"
   ]
  },
  {
   "cell_type": "markdown",
   "metadata": {},
   "source": [
    "Now, we can work with our ```data``` variable to grab more information about specific items in our UMedia search results. Let's consider how to save the transcripts for all of the items in our Python list to a text file."
   ]
  },
  {
   "cell_type": "markdown",
   "metadata": {},
   "source": [
    "This function takes two arguments: the first specifies the name of the file and the second specifies the task we want to do. In our case, we want to write data to the file, so  we'll use the symbol \"w+\" in the second argument. For more about the \"open()\" function and its usage: https://docs.python.org/3/library/functions.html. \n",
    "The following line of code does three things: \n",
    "\n",
    "1. Creates a file object called \"f\"\n",
    "2. Create a text file called \"letters.txt\" on the local computer\n",
    "3. Specifies that we want to write to the text file, ```\"w+\"```"
   ]
  },
  {
   "cell_type": "code",
   "execution_count": 14,
   "metadata": {},
   "outputs": [],
   "source": [
    "f = open(\"letters.txt\", \"w+\")"
   ]
  },
  {
   "cell_type": "markdown",
   "metadata": {},
   "source": [
    "After opening (or creating) the file, we can write data to it using the ```write()``` function. We can use a for-loop to iteratively write out both the transcripts and titles for each item into our letters.txt file. "
   ]
  },
  {
   "cell_type": "code",
   "execution_count": 15,
   "metadata": {},
   "outputs": [],
   "source": [
    "for i in range(len(data)):\n",
    "    f.write(data[i][\"title\"] + \"\\n\" + data[i][\"transcription\"] + \"\\n\\n\")"
   ]
  },
  {
   "cell_type": "markdown",
   "metadata": {},
   "source": [
    "There should now be a file called \"letters.txt\" in the same directory with this code. When opening it, you will see the title along with the transcript of each item. \n",
    "\n",
    "Remember to close a file every time you open one. This avoid memory leak issues, which can lower your CPU performance. The code to close your f file object is:"
   ]
  },
  {
   "cell_type": "code",
   "execution_count": 16,
   "metadata": {},
   "outputs": [],
   "source": [
    "f.close()"
   ]
  },
  {
   "cell_type": "markdown",
   "metadata": {},
   "source": [
    "### 3.2. Dowload Objects from UMedia"
   ]
  },
  {
   "cell_type": "markdown",
   "metadata": {},
   "source": [
    "In this section, we will discuss how to use the API in Python to download digital objects from UMedia. We will focus here on how to download image files. \n",
    "\n",
    "To download images, we can use another built-in module in Python called ```shutil```. This module allows us to perform a variety of operations, such as copying and deletion, on local files. To learn more about ```shutil``` see: \n",
    "https://docs.python.org/3/library/shutil.html\n",
    "\n",
    "First import the tool:"
   ]
  },
  {
   "cell_type": "code",
   "execution_count": 17,
   "metadata": {},
   "outputs": [],
   "source": [
    "import shutil"
   ]
  },
  {
   "cell_type": "markdown",
   "metadata": {},
   "source": [
    "First we need to create a URL for the image we want to download. As an example, we will use the image from the [How to construct IIIF calls to UMedia](https://github.com/liu00222/api_document/blob/master/IIIF_umedia/construct_iiif_umedia.md) documentation. "
   ]
  },
  {
   "cell_type": "code",
   "execution_count": 18,
   "metadata": {},
   "outputs": [],
   "source": [
    "image_url = \"https://cdm16022.contentdm.oclc.org/digital/iiif/p16022coll208/4833/full/full/0/default.jpg\""
   ]
  },
  {
   "cell_type": "markdown",
   "metadata": {},
   "source": [
    "Next, we can use the ```requests``` package to open the url image. "
   ]
  },
  {
   "cell_type": "code",
   "execution_count": 23,
   "metadata": {},
   "outputs": [],
   "source": [
    "resp = requests.get(image_url, stream = True)"
   ]
  },
  {
   "cell_type": "markdown",
   "metadata": {},
   "source": [
    "Notice that we now need to set stream to 'True' in ```get()```, which we didn't do previously when working with UMedia metadata. This is because the image information is binary and not available in the JSON format, as before. \n",
    "\n",
    "Next, we can open the file to store the image that we grabbed: "
   ]
  },
  {
   "cell_type": "code",
   "execution_count": 24,
   "metadata": {},
   "outputs": [],
   "source": [
    "local_file = open('local_image.jpg', 'wb')"
   ]
  },
  {
   "cell_type": "markdown",
   "metadata": {},
   "source": [
    "The second argument of the ```open()``` function is ```wb``` instead of ```w+``` because we need to write binary data to the file, indicated by the 'b' in 'wb'. \n",
    "\n",
    "Before writing the data to a 'local_image.jpg' file that we just created, we first need to set the ```resp``` variable object to ```raw.decode_content = True```! Otherwise the size of this file will always be zero, and thus cannot be opened by any computer. "
   ]
  },
  {
   "cell_type": "code",
   "execution_count": 25,
   "metadata": {},
   "outputs": [],
   "source": [
    "resp.raw.decode_content = True"
   ]
  },
  {
   "cell_type": "markdown",
   "metadata": {},
   "source": [
    "Now, we can write the image data to the file. This is done by one line of code, using the ```copyfileobj()``` function from the ```shutil``` module. Don't forget to delete the image url response object before celebrating: "
   ]
  },
  {
   "cell_type": "code",
   "execution_count": 26,
   "metadata": {},
   "outputs": [],
   "source": [
    "# write the data into the local_file\n",
    "shutil.copyfileobj(resp.raw, local_file)\n",
    "\n",
    "# remove the image response object\n",
    "del resp"
   ]
  },
  {
   "cell_type": "markdown",
   "metadata": {},
   "source": [
    "After running the code above, you should find that the image called \"local_image.jpg\" is in the same directory as the code! Now you know how to download images from UMedia. "
   ]
  },
  {
   "cell_type": "markdown",
   "metadata": {},
   "source": [
    "This is the end of the tutorial. Thank you for reading! "
   ]
  }
 ],
 "metadata": {
  "kernelspec": {
   "display_name": "Python 3",
   "language": "python",
   "name": "python3"
  },
  "language_info": {
   "codemirror_mode": {
    "name": "ipython",
    "version": 3
   },
   "file_extension": ".py",
   "mimetype": "text/x-python",
   "name": "python",
   "nbconvert_exporter": "python",
   "pygments_lexer": "ipython3",
   "version": "3.7.0"
  }
 },
 "nbformat": 4,
 "nbformat_minor": 2
}
